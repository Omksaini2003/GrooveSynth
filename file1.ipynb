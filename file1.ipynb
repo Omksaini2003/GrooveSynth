{
 "cells": [
  {
   "cell_type": "code",
   "execution_count": null,
   "metadata": {},
   "outputs": [],
   "source": [
    "import os\n",
    "import sys\n",
    "import subprocess\n",
    "import Bio\n",
    "from Bio.PDB import PDBParser, PDBIO\n"
   ]
  },
  {
   "cell_type": "code",
   "execution_count": null,
   "metadata": {},
   "outputs": [],
   "source": [
    "pip install biopython"
   ]
  },
  {
   "cell_type": "code",
   "execution_count": null,
   "metadata": {},
   "outputs": [],
   "source": [
    "parser = PDBParser()\n",
    "enzyme_structure = parser.get_structure('enzyme', '4dfr.pdb')\n",
    "\n"
   ]
  },
  {
   "cell_type": "code",
   "execution_count": null,
   "metadata": {},
   "outputs": [],
   "source": [
    "try:\n",
    "    with open('ligand.json', 'r') as f:\n",
    "        ligand_structure = parser.get_structure('ligand','ligand.json')\n",
    "except FileNotFoundError:\n",
    "    print('Error: ligand.json not found.')\n",
    "    sys.exit(1)\n"
   ]
  },
  {
   "cell_type": "code",
   "execution_count": null,
   "metadata": {},
   "outputs": [],
   "source": [
    "# Prepare the enzyme and ligand files for molecular docking\n",
    "enzyme_file = 'enzyme.pdbqt'\n",
    "ligand_file = 'ligand.pdbqt'\n",
    "io = PDBIO()\n",
    "io.set_structure(enzyme_structure)\n",
    "io.save(enzyme_file)\n",
    "io = PDBIO()\n",
    "io.set_structure(ligand_structure)\n",
    "io.save(ligand_file)"
   ]
  },
  {
   "cell_type": "code",
   "execution_count": null,
   "metadata": {},
   "outputs": [],
   "source": [
    "\n",
    "# Run molecular docking using Autodock Vina\n",
    "vina_exe = 'vina' #location\n",
    "\n",
    "docking_output = 'docking.pdbqt'\n",
    "docking_cmd = f'{vina_exe} --receptor {enzyme_file} --ligand {ligand_file} --out {docking_output} --num_modes 10'\n",
    "subprocess.run(docking_cmd, shell=True)\n"
   ]
  },
  {
   "cell_type": "code",
   "execution_count": null,
   "metadata": {},
   "outputs": [],
   "source": [
    "\n",
    "# Parse the docking output file to find the best binding pose\n",
    "docking_pose = None\n",
    "with open(docking_output, 'r') as f:\n",
    "    lines = f.readlines()\n",
    "    for line in lines:\n",
    "        if line.startswith('MODEL'):\n",
    "            docking_pose = line.split()[1]\n",
    "\n"
   ]
  },
  {
   "cell_type": "code",
   "execution_count": null,
   "metadata": {},
   "outputs": [],
   "source": [
    "# Find the residues within 5A of the best binding pose\n",
    "groove_residues = []\n",
    "for residue in enzyme_structure.get_residues():\n",
    "    ligand_atoms = []\n",
    "    for atom in ligand_structure.get_atoms():\n",
    "        if float(atom['occupancy']) == 1.0 and float(atom['bfactor']) == 0.0:\n",
    "            ligand_atoms.append(atom)\n",
    "    ligand_center = Bio.PDB.geometry.center_of_mass(ligand_atoms)\n",
    "    distance = residue.get_distance(ligand_center)\n",
    "    if distance < 5.0:\n",
    "        groove_residues.append(residue)\n",
    "\n"
   ]
  },
  {
   "cell_type": "code",
   "execution_count": null,
   "metadata": {},
   "outputs": [],
   "source": [
    "# Print the groove residues\n",
    "for residue in groove_residues:\n",
    "    print(residue.get_resname(), residue.get_id())"
   ]
  }
 ],
 "metadata": {
  "language_info": {
   "name": "python"
  }
 },
 "nbformat": 4,
 "nbformat_minor": 2
}
