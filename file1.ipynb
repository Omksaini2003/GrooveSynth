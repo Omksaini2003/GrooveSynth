{
 "cells": [
  {
   "cell_type": "code",
   "execution_count": 3,
   "metadata": {},
   "outputs": [],
   "source": [
    "import sys\n",
    "\n",
    "\n",
    "# def extract_lines_with_ids(input_file, output_file, id_array):\n",
    "#     with open(input_file, 'r') as f_input, open(output_file, 'w') as f_output:\n",
    "#         for line in f_input:\n",
    "#             line_id = line.split()[1]  # Assuming the ID is the first word in each line\n",
    "#             if line_id in id_array:\n",
    "#                 f_output.write(line)\n",
    "\n",
    "def extract_lines_with_ids(input_file, output_file, id_array):\n",
    "    with open(input_file, 'r') as f_input, open(output_file, 'w') as f_output:\n",
    "        for line in f_input:\n",
    "            words = line.split()\n",
    "            if len(words) >= 2:  # Check if the line has at least two words\n",
    "                line_id = words[1]  # Assuming the ID is the second word in each line\n",
    "                if (line_id in id_array and words[0]=='ATOM'):\n",
    "                    f_output.write(line)\n",
    "        f_output.write('END')\n",
    "\n",
    "\n",
    "def distance(coord1, coord2):\n",
    "    return ((coord1[0] - coord2[0])**2 + (coord1[1] - coord2[1])**2 ) ** 0.5\n",
    "\n",
    "def nearest_neighbor(nodes, coordinates):\n",
    "    unvisited = set(nodes)\n",
    "    start_node = nodes[0]\n",
    "    current_node = start_node\n",
    "    path = [current_node]\n",
    "    total_distance = 0\n",
    "    \n",
    "    while unvisited:\n",
    "        nearest_node = None\n",
    "        min_distance = sys.maxsize\n",
    "        \n",
    "        for neighbor in unvisited:\n",
    "            if neighbor != current_node:\n",
    "                dist = distance(coordinates[current_node], coordinates[neighbor])\n",
    "                if dist < min_distance:\n",
    "                    min_distance = dist\n",
    "                    nearest_node = neighbor\n",
    "        \n",
    "        path.append(nearest_node)\n",
    "        unvisited.remove(nearest_node)\n",
    "        total_distance += min_distance\n",
    "        current_node = nearest_node\n",
    "    \n",
    "    total_distance += distance(coordinates[current_node], coordinates[start_node])\n",
    "    # path.append(start_node)\n",
    "    \n",
    "    return total_distance, path\n",
    "\n"
   ]
  },
  {
   "cell_type": "code",
   "execution_count": 4,
   "metadata": {},
   "outputs": [
    {
     "name": "stdout",
     "output_type": "stream",
     "text": [
      "Minimum cost using nearest neighbor: 12.210904837709434\n",
      "Optimal path: ['A', 'B', 'D', 'E', 'C', 'A']\n"
     ]
    }
   ],
   "source": [
    "\n",
    "# Example usage:\n",
    "nodes = ['A', 'B', 'C', 'D', 'E']\n",
    "coordinates = {'A': (0, 0), 'B': (1, 2), 'C': (3, 1), 'D': (2, 3), 'E': (4, 4)}\n",
    "\n",
    "min_cost, path = nearest_neighbor(nodes, coordinates)\n",
    "\n",
    "print(\"Minimum cost using nearest neighbor:\", min_cost)\n",
    "print(\"Optimal path:\", path)\n"
   ]
  },
  {
   "cell_type": "markdown",
   "metadata": {},
   "source": []
  },
  {
   "cell_type": "code",
   "execution_count": 5,
   "metadata": {},
   "outputs": [],
   "source": [
    "\n",
    "# Example usage:\n",
    "input_file = '4dfr.pdb'\n",
    "output_file = 'extracted_lines.pdb'\n",
    "id_array = ['1', '2', '3']  # Add your IDs here\n",
    "\n",
    "extract_lines_with_ids(input_file, output_file, id_array)\n"
   ]
  },
  {
   "cell_type": "code",
   "execution_count": 6,
   "metadata": {},
   "outputs": [],
   "source": [
    "\n",
    "# Example usage:\n",
    "input_file = '4dfr.pdb'\n",
    "output_file = 'extracted_lines.pdb'\n",
    "id_array = ['1', '2', '3']  # Add your IDs here\n",
    "\n",
    "extract_lines_with_ids(input_file, output_file, id_array)\n"
   ]
  },
  {
   "cell_type": "code",
   "execution_count": 7,
   "metadata": {},
   "outputs": [
    {
     "name": "stdout",
     "output_type": "stream",
     "text": [
      "{1: (24.293, 59.579, 4.215), 2: (25.127, 58.554, 4.958), 3: (24.186, 58.457, 6.297)}\n",
      "{1: 'MET', 2: 'MET', 3: 'MET'}\n"
     ]
    }
   ],
   "source": [
    "# 6,7,8\n",
    "\n",
    "def extract_words(input_file):\n",
    "    extracted_words = {}\n",
    "    extracted_aa = {}\n",
    "    with open(input_file, 'r') as f_input:\n",
    "        for line in f_input:\n",
    "            words = line.split()\n",
    "            if len(words) >= 8:  # Ensure the line has at least 8 words\n",
    "                extracted_aa[int(words[1])] = (words[3])\n",
    "                extracted_words[int(words[1])] = (float(words[6]), float(words[7]), float(words[8]))  # Extract words 2nd, 6th, 7th, and 8th\n",
    "                # extracted_words.append(words_to_extract)\n",
    "    return extracted_words,extracted_aa\n",
    "\n",
    "# Example usage:\n",
    "input_file = 'extracted_lines.pdb'  # Replace 'your_text_file.txt' with the path to your text file\n",
    "extracted_words,extracted_aa = extract_words(input_file)\n",
    "\n",
    "# Print the extracted words\n",
    "# for words in extracted_words:\n",
    "#     print(words)\n",
    "print(extracted_words)\n",
    "print(extracted_aa)"
   ]
  },
  {
   "cell_type": "code",
   "execution_count": 8,
   "metadata": {},
   "outputs": [
    {
     "name": "stdout",
     "output_type": "stream",
     "text": [
      "Minimum cost using nearest neighbor: 3.3945081808083533\n",
      "Optimal path: [1, 3, 2, 1]\n",
      "{1: (24.293, 59.579, 4.215), 2: (25.127, 58.554, 4.958), 3: (24.186, 58.457, 6.297)}\n"
     ]
    }
   ],
   "source": [
    "\n",
    "# Example usage:\n",
    "nodes = [1,2,3]\n",
    "coordinates = extracted_words\n",
    "\n",
    "min_cost, path = nearest_neighbor(nodes, coordinates)\n",
    "\n",
    "print(\"Minimum cost using nearest neighbor:\", min_cost)\n",
    "print(\"Optimal path:\", path)\n",
    "print(coordinates)\n"
   ]
  },
  {
   "cell_type": "code",
   "execution_count": 13,
   "metadata": {},
   "outputs": [],
   "source": [
    "def interpolate_coordinates(point_A, point_B, distance):\n",
    "    # Calculate the distance between points A and B\n",
    "    distance_AB = ((point_A[0] - point_B[0])**2 + (point_A[1] - point_B[1])**2) ** 0.5\n",
    "    \n",
    "    # Calculate the fraction of distance between A and B\n",
    "    fraction = distance / distance_AB\n",
    "    \n",
    "    # Interpolate coordinates based on the fraction\n",
    "    interpolated_x = point_A[0] + fraction * (point_B[0] - point_A[0])\n",
    "    interpolated_y = point_A[1] + fraction * (point_B[1] - point_A[1])\n",
    "    \n",
    "    return (interpolated_x, interpolated_y)\n",
    "\n",
    "\n",
    "def add_ala(path,coordinates,threshold):\n",
    "    final_path=[]\n",
    "    index = 0\n",
    "    for i in range(len(path)-1):\n",
    "        final_path.append(i)\n",
    "        if (distance(coordinates[path[i]],coordinates[path[i+1]])>threshold):\n",
    "            coordinates[index-1]=interpolate_coordinates(coordinates[path[i]],coordinates[path[i+1]],threshold)\n",
    "            final_path.append(index-1)\n",
    "            index-=1\n",
    "            while(distance(coordinates[index],coordinates[path[i+1]])>threshold):\n",
    "                coordinates[index-1]=interpolate_coordinates(coordinates[index],coordinates[path[i+1]],threshold)\n",
    "                final_path.append(index-1)\n",
    "                index-=1\n",
    "    \n",
    "    return final_path,coordinates"
   ]
  },
  {
   "cell_type": "code",
   "execution_count": 14,
   "metadata": {},
   "outputs": [],
   "source": [
    "final_path,coordinates= add_ala(path,coordinates,1)"
   ]
  },
  {
   "cell_type": "code",
   "execution_count": 17,
   "metadata": {},
   "outputs": [
    {
     "name": "stdout",
     "output_type": "stream",
     "text": [
      "[0, -1, 1, 2, -2]\n",
      "{1: (24.293, 59.579, 4.215), 2: (25.127, 58.554, 4.958), 3: (24.186, 58.457, 6.297), -1: (24.198065298840298, 58.58351649811978), -2: (24.495866225788816, 59.329674003077294)}\n"
     ]
    }
   ],
   "source": [
    "print(final_path)\n",
    "print(coordinates)"
   ]
  },
  {
   "cell_type": "code",
   "execution_count": null,
   "metadata": {},
   "outputs": [],
   "source": []
  }
 ],
 "metadata": {
  "kernelspec": {
   "display_name": "Python 3",
   "language": "python",
   "name": "python3"
  },
  "language_info": {
   "codemirror_mode": {
    "name": "ipython",
    "version": 3
   },
   "file_extension": ".py",
   "mimetype": "text/x-python",
   "name": "python",
   "nbconvert_exporter": "python",
   "pygments_lexer": "ipython3",
   "version": "3.10.13"
  }
 },
 "nbformat": 4,
 "nbformat_minor": 2
}
