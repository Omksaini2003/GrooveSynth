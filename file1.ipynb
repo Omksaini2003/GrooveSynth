{
 "cells": [
  {
   "cell_type": "code",
   "execution_count": 11,
   "metadata": {},
   "outputs": [],
   "source": [
    "import sys\n",
    "\n",
    "\n",
    "# def extract_lines_with_ids(input_file, output_file, id_array):\n",
    "#     with open(input_file, 'r') as f_input, open(output_file, 'w') as f_output:\n",
    "#         for line in f_input:\n",
    "#             line_id = line.split()[1]  # Assuming the ID is the first word in each line\n",
    "#             if line_id in id_array:\n",
    "#                 f_output.write(line)\n",
    "\n",
    "def extract_lines_with_ids(input_file, output_file, id_array):\n",
    "    with open(input_file, 'r') as f_input, open(output_file, 'w') as f_output:\n",
    "        for line in f_input:\n",
    "            words = line.split()\n",
    "            if len(words) >= 2:  # Check if the line has at least two words\n",
    "                line_id = words[1]  # Assuming the ID is the second word in each line\n",
    "                if (line_id in id_array and words[0]=='ATOM'):\n",
    "                    f_output.write(line)\n",
    "        f_output.write('END')\n",
    "\n",
    "\n",
    "def distance(coord1, coord2):\n",
    "    return ((coord1[0] - coord2[0])**2 + (coord1[1] - coord2[1])**2) ** 0.5\n",
    "\n",
    "def nearest_neighbor(nodes, coordinates):\n",
    "    unvisited = set(nodes)\n",
    "    start_node = nodes[0]\n",
    "    current_node = start_node\n",
    "    path = [current_node]\n",
    "    total_distance = 0\n",
    "    \n",
    "    while unvisited:\n",
    "        nearest_node = None\n",
    "        min_distance = sys.maxsize\n",
    "        \n",
    "        for neighbor in unvisited:\n",
    "            if neighbor != current_node:\n",
    "                dist = distance(coordinates[current_node], coordinates[neighbor])\n",
    "                if dist < min_distance:\n",
    "                    min_distance = dist\n",
    "                    nearest_node = neighbor\n",
    "        \n",
    "        path.append(nearest_node)\n",
    "        unvisited.remove(nearest_node)\n",
    "        total_distance += min_distance\n",
    "        current_node = nearest_node\n",
    "    \n",
    "    total_distance += distance(coordinates[current_node], coordinates[start_node])\n",
    "    # path.append(start_node)\n",
    "    \n",
    "    return total_distance, path\n",
    "\n"
   ]
  },
  {
   "cell_type": "code",
   "execution_count": 4,
   "metadata": {},
   "outputs": [
    {
     "name": "stdout",
     "output_type": "stream",
     "text": [
      "Minimum cost using nearest neighbor: 12.210904837709434\n",
      "Optimal path: ['A', 'B', 'D', 'E', 'C', 'A']\n"
     ]
    }
   ],
   "source": [
    "\n",
    "# Example usage:\n",
    "nodes = ['A', 'B', 'C', 'D', 'E']\n",
    "coordinates = {'A': (0, 0), 'B': (1, 2), 'C': (3, 1), 'D': (2, 3), 'E': (4, 4)}\n",
    "\n",
    "min_cost, path = nearest_neighbor(nodes, coordinates)\n",
    "\n",
    "print(\"Minimum cost using nearest neighbor:\", min_cost)\n",
    "print(\"Optimal path:\", path)\n"
   ]
  },
  {
   "cell_type": "markdown",
   "metadata": {},
   "source": []
  },
  {
   "cell_type": "code",
   "execution_count": 21,
   "metadata": {},
   "outputs": [],
   "source": [
    "\n",
    "# Example usage:\n",
    "input_file = '4dfr.pdb'\n",
    "output_file = 'extracted_lines.pdb'\n",
    "id_array = ['1', '2', '3']  # Add your IDs here\n",
    "\n",
    "extract_lines_with_ids(input_file, output_file, id_array)\n"
   ]
  },
  {
   "cell_type": "code",
   "execution_count": 6,
   "metadata": {},
   "outputs": [],
   "source": [
    "\n",
    "# Example usage:\n",
    "input_file = '4dfr.pdb'\n",
    "output_file = 'extracted_lines.pdb'\n",
    "id_array = ['1', '2', '3']  # Add your IDs here\n",
    "\n",
    "extract_lines_with_ids(input_file, output_file, id_array)\n"
   ]
  },
  {
   "cell_type": "code",
   "execution_count": 26,
   "metadata": {},
   "outputs": [
    {
     "name": "stdout",
     "output_type": "stream",
     "text": [
      "{1: (24.293, 59.579, 4.215), 2: (25.127, 58.554, 4.958), 3: (24.186, 58.457, 6.297)}\n"
     ]
    }
   ],
   "source": [
    "# 6,7,8\n",
    "\n",
    "def extract_words(input_file):\n",
    "    extracted_words = {}\n",
    "    with open(input_file, 'r') as f_input:\n",
    "        for line in f_input:\n",
    "            words = line.split()\n",
    "            if len(words) >= 8:  # Ensure the line has at least 8 words\n",
    "                extracted_words[int(words[1])] = (float(words[6]), float(words[7]), float(words[8]))  # Extract words 2nd, 6th, 7th, and 8th\n",
    "                # extracted_words.append(words_to_extract)\n",
    "    return extracted_words\n",
    "\n",
    "# Example usage:\n",
    "input_file = 'extracted_lines.pdb'  # Replace 'your_text_file.txt' with the path to your text file\n",
    "extracted_words = extract_words(input_file)\n",
    "\n",
    "# Print the extracted words\n",
    "# for words in extracted_words:\n",
    "#     print(words)\n",
    "print(extracted_words)"
   ]
  },
  {
   "cell_type": "code",
   "execution_count": 27,
   "metadata": {},
   "outputs": [
    {
     "name": "stdout",
     "output_type": "stream",
     "text": [
      "Minimum cost using nearest neighbor: 3.3945081808083533\n",
      "Optimal path: [1, 3, 2, 1]\n"
     ]
    }
   ],
   "source": [
    "\n",
    "# Example usage:\n",
    "nodes = [1,2,3]\n",
    "coordinates = extracted_words\n",
    "\n",
    "min_cost, path = nearest_neighbor(nodes, coordinates)\n",
    "\n",
    "print(\"Minimum cost using nearest neighbor:\", min_cost)\n",
    "print(\"Optimal path:\", path)\n"
   ]
  },
  {
   "cell_type": "code",
   "execution_count": null,
   "metadata": {},
   "outputs": [],
   "source": []
  }
 ],
 "metadata": {
  "kernelspec": {
   "display_name": "Python 3",
   "language": "python",
   "name": "python3"
  },
  "language_info": {
   "codemirror_mode": {
    "name": "ipython",
    "version": 3
   },
   "file_extension": ".py",
   "mimetype": "text/x-python",
   "name": "python",
   "nbconvert_exporter": "python",
   "pygments_lexer": "ipython3",
   "version": "3.10.13"
  }
 },
 "nbformat": 4,
 "nbformat_minor": 2
}
