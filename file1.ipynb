{
 "cells": [
  {
   "cell_type": "code",
   "execution_count": 85,
   "metadata": {},
   "outputs": [],
   "source": [
    "import sys\n",
    "\n",
    "\n",
    "# def extract_lines_with_ids(input_file, output_file, id_array):\n",
    "#     with open(input_file, 'r') as f_input, open(output_file, 'w') as f_output:\n",
    "#         for line in f_input:\n",
    "#             line_id = line.split()[1]  # Assuming the ID is the first word in each line\n",
    "#             if line_id in id_array:\n",
    "#                 f_output.write(line)\n",
    "\n",
    "def extract_lines_with_ids(input_file, output_file, id_array):\n",
    "    with open(input_file, 'r') as f_input, open(output_file, 'w') as f_output:\n",
    "        for line in f_input:\n",
    "            words = line.split()\n",
    "            if len(words) >= 2:  # Check if the line has at least two words\n",
    "                line_id = words[1]  # Assuming the ID is the second word in each line\n",
    "                if (line_id in id_array and words[0]=='ATOM'):\n",
    "                    f_output.write(line)\n",
    "        # f_output.write('END')\n",
    "\n",
    "\n",
    "def distance(coord1, coord2):\n",
    "    return ((coord1[0] - coord2[0])**2 + (coord1[1] - coord2[1])**2 ) ** 0.5\n",
    "\n",
    "def nearest_neighbor(nodes, coordinates):\n",
    "    unvisited = set(nodes)\n",
    "    start_node = nodes[0]\n",
    "    current_node = start_node\n",
    "    path = [current_node]\n",
    "    total_distance = 0\n",
    "    \n",
    "    while unvisited:\n",
    "        nearest_node = None\n",
    "        min_distance = sys.maxsize\n",
    "        \n",
    "        for neighbor in unvisited:\n",
    "            if neighbor != current_node:\n",
    "                dist = distance(coordinates[current_node], coordinates[neighbor])\n",
    "                if dist < min_distance:\n",
    "                    min_distance = dist\n",
    "                    nearest_node = neighbor\n",
    "        \n",
    "        path.append(nearest_node)\n",
    "        unvisited.remove(nearest_node)\n",
    "        total_distance += min_distance\n",
    "        current_node = nearest_node\n",
    "    \n",
    "    total_distance += distance(coordinates[current_node], coordinates[start_node])\n",
    "    # path.append(start_node)\n",
    "    \n",
    "    return total_distance, path\n",
    "\n"
   ]
  },
  {
   "cell_type": "code",
   "execution_count": 86,
   "metadata": {},
   "outputs": [
    {
     "name": "stdout",
     "output_type": "stream",
     "text": [
      "Minimum cost using nearest neighbor: 12.210904837709434\n",
      "Optimal path: ['A', 'B', 'D', 'E', 'C', 'A']\n"
     ]
    }
   ],
   "source": [
    "\n",
    "# Example usage:\n",
    "nodes = ['A', 'B', 'C', 'D', 'E']\n",
    "coordinates = {'A': (0, 0), 'B': (1, 2), 'C': (3, 1), 'D': (2, 3), 'E': (4, 4)}\n",
    "\n",
    "min_cost, path = nearest_neighbor(nodes, coordinates)\n",
    "\n",
    "print(\"Minimum cost using nearest neighbor:\", min_cost)\n",
    "print(\"Optimal path:\", path)\n"
   ]
  },
  {
   "cell_type": "markdown",
   "metadata": {},
   "source": []
  },
  {
   "cell_type": "code",
   "execution_count": 87,
   "metadata": {},
   "outputs": [],
   "source": [
    "\n",
    "# Example usage:\n",
    "input_file = '4dfr.pdb'\n",
    "output_file = 'extracted_lines.pdb'\n",
    "id_array = ['1', '2', '3']  # Add your IDs here\n",
    "\n",
    "extract_lines_with_ids(input_file, output_file, id_array)\n"
   ]
  },
  {
   "cell_type": "code",
   "execution_count": 88,
   "metadata": {},
   "outputs": [],
   "source": [
    "\n",
    "# Example usage:\n",
    "input_file = '4dfr.pdb'\n",
    "output_file = 'extracted_lines.pdb'\n",
    "id_array = ['1', '2', '3']  # Add your IDs here\n",
    "\n",
    "extract_lines_with_ids(input_file, output_file, id_array)\n"
   ]
  },
  {
   "cell_type": "code",
   "execution_count": 89,
   "metadata": {},
   "outputs": [
    {
     "name": "stdout",
     "output_type": "stream",
     "text": [
      "{1: (24.293, 59.579, 4.215), 2: (25.127, 58.554, 4.958), 3: (24.186, 58.457, 6.297)}\n",
      "{1: 'MET', 2: 'MET', 3: 'MET'}\n"
     ]
    }
   ],
   "source": [
    "# 6,7,8\n",
    "\n",
    "def extract_words(input_file):\n",
    "    extracted_words = {}\n",
    "    extracted_aa = {}\n",
    "    with open(input_file, 'r') as f_input:\n",
    "        for line in f_input:\n",
    "            words = line.split()\n",
    "            if len(words) >= 8:  # Ensure the line has at least 8 words\n",
    "                extracted_aa[int(words[1])] = (words[3])\n",
    "                extracted_words[int(words[1])] = (float(words[6]), float(words[7]), float(words[8]))  # Extract words 2nd, 6th, 7th, and 8th\n",
    "                # extracted_words.append(words_to_extract)\n",
    "    return extracted_words,extracted_aa\n",
    "\n",
    "# Example usage:\n",
    "input_file = 'extracted_lines.pdb'  # Replace 'your_text_file.txt' with the path to your text file\n",
    "extracted_words,extracted_aa = extract_words(input_file)\n",
    "\n",
    "# Print the extracted words\n",
    "# for words in extracted_words:\n",
    "#     print(words)\n",
    "print(extracted_words)\n",
    "print(extracted_aa)"
   ]
  },
  {
   "cell_type": "code",
   "execution_count": 90,
   "metadata": {},
   "outputs": [
    {
     "name": "stdout",
     "output_type": "stream",
     "text": [
      "Minimum cost using nearest neighbor: 3.3945081808083533\n",
      "Optimal path: [1, 3, 2, 1]\n",
      "{1: (24.293, 59.579, 4.215), 2: (25.127, 58.554, 4.958), 3: (24.186, 58.457, 6.297)}\n"
     ]
    }
   ],
   "source": [
    "\n",
    "# Example usage:\n",
    "nodes = [1,2,3]\n",
    "coordinates = extracted_words\n",
    "\n",
    "min_cost, path = nearest_neighbor(nodes, coordinates)\n",
    "\n",
    "print(\"Minimum cost using nearest neighbor:\", min_cost)\n",
    "print(\"Optimal path:\", path)\n",
    "print(coordinates)\n"
   ]
  },
  {
   "cell_type": "code",
   "execution_count": 133,
   "metadata": {},
   "outputs": [],
   "source": [
    "def interpolate_coordinates(point_A, point_B, distance):\n",
    "    # Calculate the distance between points A and B\n",
    "    distance_AB = ((point_A[0] - point_B[0])**2 + (point_A[1] - point_B[1])**2) ** 0.5\n",
    "    \n",
    "    # Calculate the fraction of distance between A and B\n",
    "    fraction = distance / distance_AB\n",
    "    \n",
    "    # Interpolate coordinates based on the fraction\n",
    "    interpolated_x = round(point_A[0] + fraction * (point_B[0] - point_A[0]),3)\n",
    "    interpolated_y = round(point_A[1] + fraction * (point_B[1] - point_A[1]),3)\n",
    "    interpolated_z = round(point_A[2] + fraction * (point_B[2] - point_A[2]),3)\n",
    "    \n",
    "    return (interpolated_x, interpolated_y, interpolated_z)\n",
    "\n",
    "\n",
    "def add_ala(path,coordinates,threshold):\n",
    "    final_path=[]\n",
    "    index = 0\n",
    "    for i in range(len(path)-1):\n",
    "        final_path.append(i)\n",
    "        if (distance(coordinates[path[i]],coordinates[path[i+1]])>threshold):\n",
    "            coordinates[index-1]=interpolate_coordinates(coordinates[path[i]],coordinates[path[i+1]],threshold)\n",
    "            final_path.append(index-1)\n",
    "            index-=1\n",
    "            while(distance(coordinates[index],coordinates[path[i+1]])>threshold):\n",
    "                coordinates[index-1]=interpolate_coordinates(coordinates[index],coordinates[path[i+1]],threshold)\n",
    "                final_path.append(index-1)\n",
    "                index-=1\n",
    "    \n",
    "    return final_path,coordinates"
   ]
  },
  {
   "cell_type": "code",
   "execution_count": 134,
   "metadata": {},
   "outputs": [],
   "source": [
    "final_path,coordinates= add_ala(path,coordinates,1)"
   ]
  },
  {
   "cell_type": "code",
   "execution_count": 135,
   "metadata": {},
   "outputs": [
    {
     "name": "stdout",
     "output_type": "stream",
     "text": [
      "[0, -1, 1, 2, -2]\n",
      "24.198\n"
     ]
    }
   ],
   "source": [
    "print(final_path)\n",
    "print(coordinates[-1][0])"
   ]
  },
  {
   "cell_type": "code",
   "execution_count": 148,
   "metadata": {},
   "outputs": [],
   "source": [
    "def ala(i,x,y,z):\n",
    "    txt = f\"ATOM      {i}  C   ALA A   1      {x}  {y}   {z}  1.00 35.50           C\\n\"\n",
    "    return txt\n",
    "\n",
    "\n",
    "def rearrange_lines(input_file, arranged_ids, output_file,coordinates):\n",
    "    # Read the contents of the text file and store them in memory\n",
    "    with open(input_file, 'r') as f:\n",
    "        lines = f.readlines()\n",
    "\n",
    "    # Create a dictionary mapping each ID to its corresponding line\n",
    "    id_to_line = {}\n",
    "    for line in lines:\n",
    "        parts = line.strip().split()\n",
    "        # print(parts)\n",
    "        id_ = parts[1]  # Assuming the ID is the second element in each line\n",
    "        id_to_line[str(id_)] = line  # Convert the ID to string before using it as key\n",
    "    \n",
    "    # print(id_to_line)\n",
    "\n",
    "    # Iterate through the array of arranged IDs and append the corresponding lines to a new list\n",
    "    rearranged_lines = []\n",
    "    for id_ in arranged_ids:\n",
    "        if(id_+1 <= 0):\n",
    "            rearranged_lines.append(ala(id_,coordinates[id_][0],coordinates[id_][1],coordinates[id_][2]))\n",
    "        if str(id_+1) in id_to_line:\n",
    "            rearranged_lines.append(id_to_line[str(id_+1)])\n",
    "\n",
    "    # Write the lines from the new list to a new text file\n",
    "    with open(output_file, 'w') as f:\n",
    "        f.writelines(rearranged_lines)\n",
    "\n",
    "\n",
    "def replace_ids_with_line_numbers(input_file, output_file):\n",
    "    # Open the input file for reading\n",
    "    with open(input_file, 'r') as f_input:\n",
    "        # Open the output file for writing\n",
    "        with open(output_file, 'w') as f_output:\n",
    "            # Initialize line number\n",
    "            line_number = 1\n",
    "            # Iterate over each line in the input file\n",
    "            for line in f_input:\n",
    "                # Split the line by whitespace and replace the first element (ID) with line number\n",
    "                parts = line.strip().split()\n",
    "                parts[1] = str(line_number)\n",
    "                # Write the modified line to the output file\n",
    "                f_output.write(' '.join(parts) + '\\n')\n",
    "                # Increment the line number\n",
    "                line_number += 1\n",
    "            \n"
   ]
  },
  {
   "cell_type": "code",
   "execution_count": null,
   "metadata": {},
   "outputs": [],
   "source": []
  },
  {
   "cell_type": "code",
   "execution_count": 149,
   "metadata": {},
   "outputs": [],
   "source": [
    "input_file = 'extracted_lines.pdb'\n",
    "arranged_ids = final_path  # Example arranged IDs\n",
    "output_file = 'lines.pdb'\n",
    "alanine = 'ALA\\n'\n",
    "\n",
    "rearrange_lines(input_file, arranged_ids, output_file,coordinates)\n",
    "replace_ids_with_line_numbers('lines.pdb','final.pdb')"
   ]
  },
  {
   "cell_type": "code",
   "execution_count": 146,
   "metadata": {},
   "outputs": [],
   "source": []
  },
  {
   "cell_type": "code",
   "execution_count": 147,
   "metadata": {},
   "outputs": [],
   "source": []
  },
  {
   "cell_type": "code",
   "execution_count": null,
   "metadata": {},
   "outputs": [],
   "source": []
  }
 ],
 "metadata": {
  "kernelspec": {
   "display_name": "Python 3",
   "language": "python",
   "name": "python3"
  },
  "language_info": {
   "codemirror_mode": {
    "name": "ipython",
    "version": 3
   },
   "file_extension": ".py",
   "mimetype": "text/x-python",
   "name": "python",
   "nbconvert_exporter": "python",
   "pygments_lexer": "ipython3",
   "version": "3.10.13"
  }
 },
 "nbformat": 4,
 "nbformat_minor": 2
}
