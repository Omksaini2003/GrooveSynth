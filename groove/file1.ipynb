{
 "cells": [
  {
   "cell_type": "code",
   "execution_count": null,
   "metadata": {},
   "outputs": [],
   "source": [
    "import os\n",
    "import sys\n",
    "import subprocess\n",
    "import Bio\n",
    "from Bio.PDB import PDBParser, PDBIO\n"
   ]
  },
  {
   "cell_type": "code",
   "execution_count": 1,
   "metadata": {},
   "outputs": [
    {
     "name": "stdout",
     "output_type": "stream",
     "text": [
      "Collecting biopython\n",
      "  Downloading biopython-1.83-cp310-cp310-manylinux_2_17_x86_64.manylinux2014_x86_64.whl.metadata (13 kB)\n",
      "Requirement already satisfied: numpy in /home/codespace/.local/lib/python3.10/site-packages (from biopython) (1.26.4)\n",
      "Downloading biopython-1.83-cp310-cp310-manylinux_2_17_x86_64.manylinux2014_x86_64.whl (3.1 MB)\n",
      "\u001b[2K   \u001b[90m━━━━━━━━━━━━━━━━━━━━━━━━━━━━━━━━━━━━━━━━\u001b[0m \u001b[32m3.1/3.1 MB\u001b[0m \u001b[31m7.8 MB/s\u001b[0m eta \u001b[36m0:00:00\u001b[0m00:01\u001b[0m00:01\u001b[0m\n",
      "\u001b[?25hInstalling collected packages: biopython\n",
      "Successfully installed biopython-1.83\n",
      "Note: you may need to restart the kernel to use updated packages.\n"
     ]
    }
   ],
   "source": [
    "pip install biopython"
   ]
  },
  {
   "cell_type": "code",
   "execution_count": null,
   "metadata": {},
   "outputs": [],
   "source": [
    "parser = PDBParser()\n",
    "enzyme_structure = parser.get_structure('enzyme', '4dfr.pdb')\n",
    "\n"
   ]
  },
  {
   "cell_type": "code",
   "execution_count": null,
   "metadata": {},
   "outputs": [],
   "source": [
    "try:\n",
    "    with open('ligand.json', 'r') as f:\n",
    "        ligand_structure = parser.get_structure('ligand','ligand.json')\n",
    "except FileNotFoundError:\n",
    "    print('Error: ligand.json not found.')\n",
    "    sys.exit(1)\n"
   ]
  },
  {
   "cell_type": "code",
   "execution_count": null,
   "metadata": {},
   "outputs": [],
   "source": [
    "# Prepare the enzyme and ligand files for molecular docking\n",
    "enzyme_file = 'enzyme.pdbqt'\n",
    "ligand_file = 'ligand.pdbqt'\n",
    "io = PDBIO()\n",
    "io.set_structure(enzyme_structure)\n",
    "io.save(enzyme_file)\n",
    "io = PDBIO()\n",
    "io.set_structure(ligand_structure)\n",
    "io.save(ligand_file)"
   ]
  },
  {
   "cell_type": "code",
   "execution_count": null,
   "metadata": {},
   "outputs": [],
   "source": [
    "\n",
    "# Run molecular docking using Autodock Vina\n",
    "vina_exe = 'vina' #location\n",
    "\n",
    "docking_output = 'docking.pdbqt'\n",
    "docking_cmd = f'{vina_exe} --receptor {enzyme_file} --ligand {ligand_file} --out {docking_output} --num_modes 10'\n",
    "subprocess.run(docking_cmd, shell=True)\n"
   ]
  },
  {
   "cell_type": "code",
   "execution_count": null,
   "metadata": {},
   "outputs": [],
   "source": [
    "\n",
    "# Parse the docking output file to find the best binding pose\n",
    "docking_pose = None\n",
    "with open(docking_output, 'r') as f:\n",
    "    lines = f.readlines()\n",
    "    for line in lines:\n",
    "        if line.startswith('MODEL'):\n",
    "            docking_pose = line.split()[1]\n",
    "\n"
   ]
  },
  {
   "cell_type": "code",
   "execution_count": null,
   "metadata": {},
   "outputs": [],
   "source": [
    "# Find the residues within 5A of the best binding pose\n",
    "groove_residues = []\n",
    "for residue in enzyme_structure.get_residues():\n",
    "    ligand_atoms = []\n",
    "    for atom in ligand_structure.get_atoms():\n",
    "        if float(atom['occupancy']) == 1.0 and float(atom['bfactor']) == 0.0:\n",
    "            ligand_atoms.append(atom)\n",
    "    ligand_center = Bio.PDB.geometry.center_of_mass(ligand_atoms)\n",
    "    distance = residue.get_distance(ligand_center)\n",
    "    if distance < 5.0:\n",
    "        groove_residues.append(residue)\n",
    "\n"
   ]
  },
  {
   "cell_type": "code",
   "execution_count": null,
   "metadata": {},
   "outputs": [],
   "source": [
    "# Print the groove residues\n",
    "for residue in groove_residues:\n",
    "    print(residue.get_resname(), residue.get_id())"
   ]
  }
 ],
 "metadata": {
  "kernelspec": {
   "display_name": "Python 3",
   "language": "python",
   "name": "python3"
  },
  "language_info": {
   "codemirror_mode": {
    "name": "ipython",
    "version": 3
   },
   "file_extension": ".py",
   "mimetype": "text/x-python",
   "name": "python",
   "nbconvert_exporter": "python",
   "pygments_lexer": "ipython3",
   "version": "3.10.13"
  }
 },
 "nbformat": 4,
 "nbformat_minor": 2
}
